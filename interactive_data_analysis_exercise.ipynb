{
 "cells": [
  {
   "cell_type": "code",
   "execution_count": null,
   "id": "0cc9012e",
   "metadata": {
    "tags": []
   },
   "outputs": [],
   "source": [
    "# if you dont have matplotlib, numpy or pandas installed on your machine uncomment this lines and pip install them:\n",
    "# %pip install matplotlib\n",
    "# %pip install numpy\n",
    "# %pip install pandas\n",
    "\n",
    "# and of course install quibbler!\n",
    "%pip install pyquibbler"
   ]
  },
  {
   "cell_type": "code",
   "execution_count": null,
   "id": "40836a42",
   "metadata": {},
   "outputs": [],
   "source": [
    "from pyquibbler import iquib, initialize_quibbler, q, quiby\n",
    "initialize_quibbler()\n",
    "import matplotlib.pyplot as plt\n",
    "from matplotlib.widgets import Slider\n",
    "import matplotlib.patches as patches\n",
    "import numpy as np\n",
    "import pandas as pd\n",
    "%matplotlib tk"
   ]
  },
  {
   "cell_type": "code",
   "execution_count": null,
   "id": "f2cff337",
   "metadata": {},
   "outputs": [],
   "source": [
    "df = pd.read_pickle('data/ICD_df.pkl')\n",
    "chapters_abb = pd.read_pickle('data/chapters_abb.pkl')"
   ]
  },
  {
   "cell_type": "code",
   "execution_count": null,
   "id": "a9840156",
   "metadata": {},
   "outputs": [],
   "source": [
    "@quiby\n",
    "def filter_by_frequency(frequencies, frequency_threshold):\n",
    "    return np.where(frequencies > frequency_threshold)\n",
    "\n",
    "@quiby\n",
    "def filter_text_by_frequency(bins_height, cluster_threshold, data):\n",
    "    below_cluster_threshold = np.where((bins_height < cluster_threshold) & (bins_height > 1e-6))\n",
    "    rows_with_relevant_clusters = data[np.where(np.isin(data[:, 5], below_cluster_threshold)), 1].flatten()\n",
    "    if len(rows_with_relevant_clusters) == 0:\n",
    "        return ''\n",
    "    descriptions = '\\n\\n'.join(rows_with_relevant_clusters.tolist())\n",
    "    return descriptions\n",
    "\n",
    "@quiby\n",
    "def get_indices_from_array(array, indices):\n",
    "    return array[indices]\n",
    "\n",
    "@quiby\n",
    "def points_in_ellipse_indices(center, width, height, points):\n",
    "    ellipse = ((center[0] - points[:,0])/width)**2 + ((center[1] - points[:,1])/height)**2 \n",
    "    return np.where(ellipse<=1)[0]"
   ]
  },
  {
   "cell_type": "code",
   "execution_count": null,
   "id": "777e6fac",
   "metadata": {
    "tags": []
   },
   "outputs": [],
   "source": [
    "# define variables to control scatter plot\n",
    "frequency_threshold = iquib(100)\n",
    "df_as_array = df.to_numpy()\n",
    "indexes_to_plot = filter_by_frequency(df_as_array[:,2].astype(int) , frequency_threshold)\n",
    "above_threshold = get_indices_from_array(df_as_array, indexes_to_plot)\n",
    "rows_to_plot = above_threshold[:, (6,7,5)] # two last columns are 2D TSNE of codes\n",
    "\n",
    "# create scatter plot of TSNE\n",
    "fig = plt.figure(figsize=(20,10))\n",
    "ax_scatter = fig.add_axes([0, 0, 0.5, 1])\n",
    "ax_scatter.scatter(rows_to_plot[:,0], rows_to_plot[:,1], s=4, c=get_indices_from_array(plt.get_cmap('tab20')(np.linspace(0,1,len(chapters_abb))), q(np.asarray,rows_to_plot[:,2], dtype=int)))\n",
    "\n",
    "# define ellipse quibbed variables\n",
    "center = iquib(np.array([35., -28.]))\n",
    "width = iquib(15.)\n",
    "height = iquib(10.)\n",
    "\n",
    "# plot ellipse\n",
    "t = np.linspace(0, 2*np.pi, 100)\n",
    "ax_scatter.plot(center[0] + width*np.cos(t), center[1] + height*np.sin(t), c='r', linewidth=2)\n",
    "ax_scatter.plot(center[0], center[1], '+', c='r', markersize=10, markeredgewidth=2)\n",
    "\n",
    "# add dragging points to ellipse\n",
    "for angle in (0.25, 0.75, 1.25, 1.75):\n",
    "    ax_scatter.plot(width*np.cos(angle * np.pi) + center[0], height*np.sin(angle * np.pi) + center[1], '*', c='black', markersize=5, markeredgewidth=2)\n",
    "\n",
    "# add slider for ellipse variables\n",
    "ax_width = fig.add_axes([0.58, 0.0, 0.12, 0.05])\n",
    "ax_width.set_xlim(0, 10)\n",
    "slider_width = Slider(ax_width, 'Width', 0, 20, valinit=width, valstep=0.1)\n",
    "ax_height = fig.add_axes([0.58, 0.04, 0.12, 0.05])\n",
    "ax_height.set_xlim(0, 10)\n",
    "slider_height = Slider(ax_height, 'Height', 0, 20, valinit=height, valstep=0.1)\n",
    "\n",
    "# add slider for minimum frequency of ICD9 code in the dataset\n",
    "ax_freq = fig.add_axes([0.58, 0.08, 0.12, 0.05])\n",
    "ax_freq.set_xlim(1,5000)\n",
    "Slider(ax_freq, valmin=1, valmax=5000, valinit=frequency_threshold, label='Min Frequency')\n",
    "\n",
    "# calculate indcies of points inside ellipse\n",
    "points_inside_ellipse = points_in_ellipse_indices(center, width, height, rows_to_plot)\n",
    "\n",
    "# plot bars that represent the number of diseases inside the ellipse and add threshold to define cluster\n",
    "chapter_to_plot = q(np.asarray, above_threshold[points_inside_ellipse, 5], dtype=np.int64)\n",
    "num_chapters = len(chapters_abb)\n",
    "normalized_bins_height = q(np.bincount, chapter_to_plot, minlength=num_chapters)/(q(len, chapter_to_plot)+ 1e-6)\n",
    "chapter_names = list(chapters_abb.values())\n",
    "\n",
    "cluster_threshold = iquib(0.1)\n",
    "ax_bars = fig.add_axes([0.5, 0.35, 0.25, 0.65])\n",
    "ax_bars.bar(chapter_names, normalized_bins_height, color=plt.get_cmap('tab20')(np.linspace(0,1,num_chapters)))\n",
    "ax_bars.set_xticks(chapter_names)\n",
    "ax_bars.set_xticklabels(chapter_names, rotation=90)\n",
    "ax_bars.axhline(cluster_threshold, linestyle='--', color='r')\n",
    "\n",
    "# plot the descriptions of codes that does not pass the threshold\n",
    "text_to_plot = filter_text_by_frequency(normalized_bins_height, cluster_threshold, above_threshold[points_inside_ellipse])\n",
    "ax_text = fig.add_axes([0.75, 0, 0.25, 1])\n",
    "ax_text.axis(False)\n",
    "ax_text.text(x=0.01 , y=0.05, s=text_to_plot, fontsize=9, fontstretch='ultra-condensed', wrap=True)\n",
    "plt.show()"
   ]
  }
 ],
 "metadata": {
  "kernelspec": {
   "display_name": "Python 3 (ipykernel)",
   "language": "python",
   "name": "python3"
  },
  "language_info": {
   "codemirror_mode": {
    "name": "ipython",
    "version": 3
   },
   "file_extension": ".py",
   "mimetype": "text/x-python",
   "name": "python",
   "nbconvert_exporter": "python",
   "pygments_lexer": "ipython3",
   "version": "3.8.15"
  },
  "vscode": {
   "interpreter": {
    "hash": "7b33c6890cb6e131986cdf63ce23a71a474b450226169a38130e774185b13146"
   }
  }
 },
 "nbformat": 4,
 "nbformat_minor": 5
}
