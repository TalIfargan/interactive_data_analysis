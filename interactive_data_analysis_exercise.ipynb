{
 "cells": [
  {
   "cell_type": "code",
   "execution_count": null,
   "id": "0cc9012e",
   "metadata": {},
   "outputs": [],
   "source": [
    "# if you dont have matplotlib, numpy or pandas installed on your machine uncomment this lines and pip install them:\n",
    "# %pip install matplotlib\n",
    "# %pip install numpy\n",
    "# %pip install pandas\n",
    "\n",
    "# and of course install quibbler!\n",
    "%pip install pyquibbler"
   ]
  },
  {
   "cell_type": "code",
   "execution_count": null,
   "id": "40836a42",
   "metadata": {},
   "outputs": [],
   "source": [
    "from pyquibbler import iquib, initialize_quibbler, q, quiby\n",
    "initialize_quibbler()\n",
    "import matplotlib.pyplot as plt\n",
    "from matplotlib.widgets import Slider\n",
    "import matplotlib.patches as patches\n",
    "import numpy as np\n",
    "import pandas as pd\n",
    "%matplotlib tk"
   ]
  },
  {
   "cell_type": "code",
   "execution_count": null,
   "id": "f2cff337",
   "metadata": {},
   "outputs": [],
   "source": [
    "embedding_matrix = np.load('data/embedding_matrix.npy')\n",
    "df = pd.read_pickle('data/ICD_df.pkl')\n",
    "TSNE_2d_result = np.load('data/TSNE_2d_result.npy')\n",
    "chapters_abb = pd.read_pickle('data/chapters_abb.pkl')"
   ]
  },
  {
   "cell_type": "code",
   "execution_count": null,
   "id": "a9840156",
   "metadata": {},
   "outputs": [],
   "source": [
    "@quiby\n",
    "def filter_by_frequency(index_and_freq, frequency_threshold):\n",
    "    return index_and_freq[index_and_freq[:,1]>=frequency_threshold][:,0]\n",
    "\n",
    "@quiby\n",
    "def get_indecies_from_array(array, indecies):\n",
    "    return array[indecies]\n",
    "\n",
    "@quiby\n",
    "def points_in_ellipse_indecies(center, width, height, angle, points):\n",
    "    # calculate the rotation matrix\n",
    "    R = np.array([[np.cos(angle), -np.sin(angle)], [np.sin(angle), np.cos(angle)]])\n",
    "    # rotate the points\n",
    "    rotated_points = np.dot(points-center, R)\n",
    "    # calculate the ellipse equation\n",
    "    ellipse = (rotated_points[:,0]/width)**2 + (rotated_points[:,1]/height)**2\n",
    "    # return the indecies of points inside the ellipse\n",
    "    return np.where(ellipse<=1)[0]"
   ]
  },
  {
   "cell_type": "code",
   "execution_count": null,
   "id": "777e6fac",
   "metadata": {},
   "outputs": [],
   "source": [
    "# define variables to control scatter plot\n",
    "frequency_threshold = iquib(100)\n",
    "index_and_freq = df['frequency'].reset_index().values\n",
    "df['factorized_ICD9_chapter'] = pd.factorize(df['ICD9_chapter'])[0]\n",
    "chapter_and_freq = df[['factorized_ICD9_chapter', 'frequency']].values\n",
    "indexes_to_plot = filter_by_frequency(index_and_freq, frequency_threshold)\n",
    "chapter_to_plot = filter_by_frequency(chapter_and_freq, frequency_threshold)\n",
    "rows_to_plot = get_indecies_from_array(TSNE_2d_result, indexes_to_plot)\n",
    "\n",
    "# create scatter plot of TSNE\n",
    "fig = plt.figure(figsize=(20,10))\n",
    "ax_scatter = fig.add_axes([0, 0, 0.5, 1])\n",
    "ax_scatter.scatter(rows_to_plot[:,0], rows_to_plot[:,1], s=3, c=chapter_to_plot)\n",
    "\n",
    "# define ellipse quibbed variables\n",
    "center = iquib(np.array([35., -28.]))\n",
    "width = iquib(15.)\n",
    "height = iquib(10.)\n",
    "angle = iquib(0.)\n",
    "\n",
    "# plot ellipse using patches\n",
    "ax_scatter.add_patch(patches.Ellipse(center, width, height, angle=angle, fill=False, color='r', linewidth=2))\n",
    "ax_scatter.plot(center[0], center[1], '+', c='r', markersize=10, markeredgewidth=2)\n",
    "\n",
    "# add slider for ellipse variables\n",
    "ax_width = fig.add_axes([0.6, 0.05, 0.35, 0.05])\n",
    "ax_width.set_xlim(0, 10)\n",
    "slider_width = Slider(ax_width, 'Width', 0, 20, valinit=width, valstep=0.1)\n",
    "ax_height = fig.add_axes([0.6, 0.1, 0.35, 0.05])\n",
    "ax_height.set_xlim(0, 10)\n",
    "slider_height = Slider(ax_height, 'Height', 0, 20, valinit=height, valstep=0.1)\n",
    "ax_angle = fig.add_axes([0.6, 0.15, 0.35, 0.05])\n",
    "ax_angle.set_xlim(0, 360)\n",
    "slider_angle = Slider(ax_angle, 'Angle', 0, 360, valinit=angle, valstep=1)\n",
    "\n",
    "# add slider for minimum frequency of ICD9 code in the dataset\n",
    "ax_freq = fig.add_axes([0.6, 0.20, 0.35, 0.05])\n",
    "ax_freq.set_xlim(1,5000)\n",
    "Slider(ax_freq, valmin=1, valmax=5000, valinit=frequency_threshold, label='Min Frequency')\n",
    "\n",
    "# plot bars that represent the number of diseases inside the ellipse and add threshold to define cluster\n",
    "cluster_threshold = iquib(0.5)\n",
    "ax_bars = fig.add_axes([0.5, 0.35, 0.5, 0.65])\n",
    "ax_bars.bar(list(chapters_abb.values()), q(np.bincount, chapter_to_plot[points_in_ellipse_indecies(center, width, height, angle, rows_to_plot)], minlength=len(list(chapters_abb.values())))/np.sum(q(np.bincount, chapter_to_plot[points_in_ellipse_indecies(center, width, height, angle, rows_to_plot)], minlength=len(list(chapters_abb.values())))))\n",
    "ax_bars.set_xticks(list(chapters_abb.values()))\n",
    "ax_bars.set_xticklabels(list(chapters_abb.values()), rotation=90)\n",
    "ax_bars.hlines(y=cluster_threshold, xmin=-1, xmax=len(list(chapters_abb.values())), linestyles='--', color='r')\n",
    "ax_bars.plot([-1], cluster_threshold, marker=\">\", markersize=10)\n",
    "\n",
    "plt.show()"
   ]
  }
 ],
 "metadata": {
  "kernelspec": {
   "display_name": "Python 3 (ipykernel)",
   "language": "python",
   "name": "python3"
  },
  "language_info": {
   "codemirror_mode": {
    "name": "ipython",
    "version": 3
   },
   "file_extension": ".py",
   "mimetype": "text/x-python",
   "name": "python",
   "nbconvert_exporter": "python",
   "pygments_lexer": "ipython3",
   "version": "3.8.15"
  }
 },
 "nbformat": 4,
 "nbformat_minor": 5
}
