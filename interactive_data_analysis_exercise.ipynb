{
 "cells": [
  {
   "cell_type": "code",
   "execution_count": null,
   "id": "0cc9012e",
   "metadata": {
    "tags": []
   },
   "outputs": [],
   "source": [
    "# if you dont have matplotlib, numpy or pandas installed on your machine uncomment this lines and pip install them:\n",
    "# %pip install matplotlib\n",
    "# %pip install numpy\n",
    "# %pip install pandas\n",
    "\n",
    "# and of course install quibbler!\n",
    "%pip install pyquibbler"
   ]
  },
  {
   "cell_type": "code",
   "execution_count": null,
   "id": "40836a42",
   "metadata": {},
   "outputs": [],
   "source": [
    "from pyquibbler import iquib, initialize_quibbler, q, quiby, set_project_directory, save_quibs, load_quibs\n",
    "initialize_quibbler()\n",
    "import matplotlib.pyplot as plt\n",
    "from matplotlib.widgets import Slider\n",
    "import matplotlib.patches as patches\n",
    "import numpy as np\n",
    "import pandas as pd\n",
    "%matplotlib tk"
   ]
  },
  {
   "cell_type": "markdown",
   "id": "5b69d13b",
   "metadata": {},
   "source": [
    "## Load Data"
   ]
  },
  {
   "cell_type": "code",
   "execution_count": null,
   "id": "97e20520-4edc-4e51-b7a0-f405a05aee87",
   "metadata": {},
   "outputs": [],
   "source": [
    "df = pd.read_pickle('data/ICD_df.pkl')\n",
    "chapters_abb = pd.read_pickle('data/chapters_abb.pkl')"
   ]
  },
  {
   "cell_type": "markdown",
   "id": "681716c9",
   "metadata": {},
   "source": [
    "## Define `quiby` functions"
   ]
  },
  {
   "cell_type": "code",
   "execution_count": null,
   "id": "a9840156",
   "metadata": {},
   "outputs": [],
   "source": [
    "@quiby\n",
    "def filter_by_frequency(frequencies, frequency_threshold):\n",
    "    return np.where(frequencies > frequency_threshold)\n",
    "\n",
    "@quiby\n",
    "def filter_text_by_frequency(bins_height, cluster_threshold, data):\n",
    "    below_cluster_threshold = np.where((bins_height < cluster_threshold) & (bins_height > 1e-6))\n",
    "    rows_with_relevant_clusters = data[np.where(np.isin(data[:, 5], below_cluster_threshold)), 1].flatten()\n",
    "    return '\\n\\n'.join(rows_with_relevant_clusters.tolist()) if len(rows_with_relevant_clusters) else ''\n",
    "\n",
    "@quiby\n",
    "def get_indices_from_array(array, indices, indices_int_dtype=False, array_int_dtype=False):\n",
    "    if indices_int_dtype:\n",
    "        indices = indices.astype(int)\n",
    "    if array_int_dtype:\n",
    "        return array[indices].astype(int)\n",
    "    return array[indices]\n",
    "\n",
    "@quiby\n",
    "def points_in_ellipse_indices(center, width, height, points):\n",
    "    ellipse = ((center[0] - points[:,0])/width)**2 + ((center[1] - points[:,1])/height)**2 \n",
    "    return np.where(ellipse<=1)[0]"
   ]
  },
  {
   "cell_type": "markdown",
   "id": "9de13b14",
   "metadata": {},
   "source": [
    "## Prepare Figure and Axes"
   ]
  },
  {
   "cell_type": "code",
   "execution_count": null,
   "id": "d6ae8708-cd2f-417e-8ec6-c223751837ad",
   "metadata": {
    "tags": []
   },
   "outputs": [],
   "source": [
    "cmap = plt.get_cmap('tab20')\n",
    "num_chapters = len(chapters_abb)\n",
    "chapter_colors = cmap(np.linspace(0, 1, num_chapters))\n",
    "\n",
    "fig = plt.figure(0, figsize=(20,10))\n",
    "fig.clf()\n",
    "ax_scatter = fig.add_axes([0, 0, 0.5, 1])\n",
    "\n",
    "ax_width = fig.add_axes([0.58, 0.0, 0.12, 0.05])\n",
    "# ax_width.set_xlim(0, 10)\n",
    "\n",
    "ax_height = fig.add_axes([0.58, 0.04, 0.12, 0.05])\n",
    "# ax_height.set_xlim(0, 10)\n",
    "\n",
    "ax_freq = fig.add_axes([0.58, 0.08, 0.12, 0.05])\n",
    "# ax_freq.set_xlim(1,5000)\n",
    "\n",
    "ax_bars = fig.add_axes([0.5, 0.35, 0.25, 0.65])\n",
    "chapter_names = list(chapters_abb.values())\n",
    "ax_bars.set_xticks(range(len(chapter_names)))\n",
    "ax_bars.set_xticklabels(chapter_names, rotation=90)\n",
    "\n",
    "ax_text = fig.add_axes([0.75, 0, 0.248, 1])\n",
    "ax_text.set_yticks([]); # turn off axis labels"
   ]
  },
  {
   "cell_type": "markdown",
   "id": "c2117e28",
   "metadata": {},
   "source": [
    "## Plot"
   ]
  },
  {
   "cell_type": "code",
   "execution_count": null,
   "id": "534ed51f-c65e-420d-ad0a-b6656baf02a2",
   "metadata": {
    "tags": []
   },
   "outputs": [],
   "source": [
    "# define variables to control scatter plot\n",
    "frequency_threshold = iquib(100)\n",
    "df_as_array = df.to_numpy()\n",
    "indexes_to_plot = filter_by_frequency(df_as_array[:,2].astype(int), frequency_threshold)\n",
    "above_threshold = get_indices_from_array(df_as_array, indexes_to_plot)\n",
    "rows_to_plot = above_threshold[:, (6,7,5)] # two last columns are 2D TSNE of codes\n",
    "\n",
    "# create scatter plot of TSNE\n",
    "ax_scatter.scatter(rows_to_plot[:,0], rows_to_plot[:,1], s=4, \n",
    "                   c=get_indices_from_array(chapter_colors, rows_to_plot[:,2], indices_int_dtype=True))\n",
    "\n",
    "# define ellipse quibbed variables\n",
    "center = iquib(np.array([35, -28]))\n",
    "width = iquib(12)\n",
    "height = iquib(10)\n",
    "\n",
    "# plot ellipse\n",
    "t = np.linspace(0, 1, 60) * 2*np.pi\n",
    "ax_scatter.plot(center[0] + width*np.cos(t), center[1] + height*np.sin(t), c='r', linewidth=2)\n",
    "ax_scatter.plot(center[0], center[1], '+r', markersize=10, markeredgewidth=2)\n",
    "\n",
    "# add dragging points to ellipse\n",
    "t = np.linspace(1/8, 7/8, 4) * 2*np.pi\n",
    "ax_scatter.plot(width*np.cos(t) + center[0], height*np.sin(t) + center[1], '*', \n",
    "                c='black', markersize=5, markeredgewidth=2)\n",
    "\n",
    "# add slider for ellipse variables\n",
    "slider_width = Slider(ax_width, 'Width', 0, 20, valinit=width)\n",
    "slider_height = Slider(ax_height, 'Height', 0, 20, valinit=height)\n",
    "\n",
    "# add slider for minimum frequency of ICD9 code in the dataset\n",
    "Slider(ax_freq, valmin=1, valmax=5000, valinit=frequency_threshold, label='Min Frequency')\n",
    "\n",
    "# calculate indcies of points inside ellipse\n",
    "points_inside_ellipse = points_in_ellipse_indices(center, width, height, rows_to_plot)\n",
    "\n",
    "# plot bars that represent the number of diseases inside the ellipse and add threshold to define cluster\n",
    "chapter_to_plot = get_indices_from_array(above_threshold, (points_inside_ellipse, 5), array_int_dtype=True)\n",
    "normalized_bins_height = q(np.bincount, chapter_to_plot, minlength=num_chapters)/(q(len, chapter_to_plot)+ 1e-6)\n",
    "\n",
    "cluster_threshold = iquib(0.1)\n",
    "ax_bars.bar(chapter_names, normalized_bins_height, color=chapter_colors)\n",
    "ax_bars.axhline(cluster_threshold, linestyle='--', color='r')\n",
    "\n",
    "# plot the descriptions of codes that does not pass the threshold\n",
    "exception_codes = filter_text_by_frequency(normalized_bins_height, cluster_threshold, above_threshold[points_inside_ellipse])\n",
    "ax_text.text(0.02, 0.95, exception_codes, fontsize=9, va='top', wrap=True);"
   ]
  }
 ],
 "metadata": {
  "kernelspec": {
   "display_name": "Python 3 (ipykernel)",
   "language": "python",
   "name": "python3"
  },
  "language_info": {
   "codemirror_mode": {
    "name": "ipython",
    "version": 3
   },
   "file_extension": ".py",
   "mimetype": "text/x-python",
   "name": "python",
   "nbconvert_exporter": "python",
   "pygments_lexer": "ipython3",
   "version": "3.8.15"
  },
  "quibs_archive": "UEsDBBQAAAAIACJZMlaxJZorFgAAABkAAAAKAAAAY2VudGVyLnR4dCsszUyKNoxVsFUwNeTlKgTxDEA8CwBQSwMEFAAAAAgAIlkyVhhyOEwUAAAAEgAAABUAAABjbHVzdGVyX3RocmVzaG9sZC50eHQrLM1M0kssLs5Mz9Mw0DM0s9QEAFBLAwQUAAAACAAiWTJWfm5GSRAAAAAOAAAACgAAAGhlaWdodC50eHQrLM1M0kssLs5Mz9Mw0QQAUEsDBBQAAAAIACJZMlY/X11QEAAAAA4AAAAJAAAAd2lkdGgudHh0KyzNTNJLLC7OTM/TMNUEAFBLAQIUABQAAAAIACJZMlaxJZorFgAAABkAAAAKAAAAAAAAAAAAAAC2gQAAAABjZW50ZXIudHh0UEsBAhQAFAAAAAgAIlkyVhhyOEwUAAAAEgAAABUAAAAAAAAAAAAAALaBPgAAAGNsdXN0ZXJfdGhyZXNob2xkLnR4dFBLAQIUABQAAAAIACJZMlZ+bkZJEAAAAA4AAAAKAAAAAAAAAAAAAAC2gYUAAABoZWlnaHQudHh0UEsBAhQAFAAAAAgAIlkyVj9fXVAQAAAADgAAAAkAAAAAAAAAAAAAALaBvQAAAHdpZHRoLnR4dFBLBQYAAAAABAAEAOoAAAD0AAAAAAA=",
  "vscode": {
   "interpreter": {
    "hash": "7b33c6890cb6e131986cdf63ce23a71a474b450226169a38130e774185b13146"
   }
  }
 },
 "nbformat": 4,
 "nbformat_minor": 5
}
